{
 "cells": [
  {
   "cell_type": "markdown",
   "metadata": {},
   "source": [
    "## Menú\n",
    "\n",
    "1. [Introducción](#introduccion)\n",
    "2. [Librerías y Dependencias](#librerias)\n",
    "3. [Descargar y Cargar los Datos](#descargar-y-cargar-los-datos)\n",
    "4. [Explorar los Datos](#explorar-los-datos)\n",
    "5. [Entrenar y Probar el Modelo](#entrenar-y-probar-el-modelo)\n",
    "6. [Cálculo de Ganancias](#calculo-de-ganancias)\n",
    "7. [Evaluar Riesgos con Bootstrapping](#evaluar-riesgos-con-bootstrapping)\n",
    "8. [Conclusión](#conclusion)"
   ]
  },
  {
   "cell_type": "markdown",
   "metadata": {},
   "source": [
    "## 1. Introducción <a class=\"anchor\" id=\"introduccion\"></a>"
   ]
  },
  {
   "cell_type": "markdown",
   "metadata": {},
   "source": [
    "Trabajas en la compañía de extracción de petróleo OilyGiant. Tu tarea es encontrar los mejores lugares donde abrir 200 nuevos pozos de petróleo. Para completar esta tarea, es necesario realizar una serie de pasos que implican la lectura y análisis de datos, la creación de modelos predictivos y la evaluación de beneficios y riesgos.\n",
    "\n",
    "El proceso comienza con la lectura de los archivos que contienen los parámetros recogidos de pozos petrolíferos en las regiones seleccionadas, incluyendo la calidad del crudo y el volumen de reservas. Utilizando estos datos, se debe crear un modelo para predecir el volumen de reservas en nuevos pozos. Con las predicciones, se seleccionarán los pozos con los valores estimados más altos.\n",
    "\n",
    "El objetivo final es elegir la región con el beneficio total más alto para los pozos petrolíferos seleccionados. Se dispone de datos sobre muestras de crudo de tres regiones diferentes, y ya se conocen los parámetros de cada pozo petrolero de estas regiones. Mediante la creación de un modelo predictivo, se busca identificar la región con el mayor margen de beneficio. Además, se analizarán los beneficios y riesgos potenciales utilizando la técnica de bootstrapping para asegurar decisiones informadas y minimizar riesgos financieros.\n",
    "\n",
    "Este análisis permitirá a OilyGiant maximizar sus beneficios y optimizar la selección de ubicaciones para los nuevos pozos de petróleo, asegurando el uso eficiente de recursos y la maximización del retorno de inversión.\n"
   ]
  },
  {
   "cell_type": "markdown",
   "metadata": {},
   "source": [
    "## 2. Librerías y Dependencias <a class=\"anchor\" id=\"librerias\"></a>"
   ]
  },
  {
   "cell_type": "code",
   "execution_count": 1,
   "metadata": {},
   "outputs": [],
   "source": [
    "# Importar las bibliotecas necesarias\n",
    "import os\n",
    "import pandas as pd\n",
    "import numpy as np\n",
    "from sklearn.model_selection import train_test_split\n",
    "from sklearn.linear_model import LinearRegression\n",
    "from sklearn.metrics import mean_squared_error\n",
    "import matplotlib.pyplot as plt"
   ]
  },
  {
   "cell_type": "markdown",
   "metadata": {},
   "source": [
    "## 3. Descargar y Cargar los Datos <a class=\"anchor\" id=\"descargar-y-cargar-los-datos\"></a>"
   ]
  },
  {
   "cell_type": "code",
   "execution_count": 2,
   "metadata": {},
   "outputs": [
    {
     "name": "stdout",
     "output_type": "stream",
     "text": [
      "Archivo cargado exitosamente desde 'datasets/geo_data_0.csv'\n",
      "Archivo cargado exitosamente desde 'datasets/geo_data_1.csv'\n",
      "Archivo cargado exitosamente desde 'datasets/geo_data_2.csv'\n"
     ]
    }
   ],
   "source": [
    "#->datos\n",
    "# Leer el archivo y almacenarlo en df\n",
    "def cargar_archivos_con_separadores(archivos_con_separadores):\n",
    "    \"\"\"\n",
    "    Carga múltiples archivos CSV con separadores específicos para cada archivo y los almacena en un diccionario de DataFrames.\n",
    "    \n",
    "    :param archivos_con_separadores: Diccionario donde las claves son los nombres de los archivos y los valores son los separadores.\n",
    "    :return: Diccionario con nombres de archivos como claves y DataFrames como valores.\n",
    "    \"\"\"\n",
    "    df = {}  # Objeto que almacenará los DataFrames\n",
    "\n",
    "    # Iterar sobre los archivos y sus separadores\n",
    "    for archivo_nombre, separador in archivos_con_separadores.items():\n",
    "        url_no_windows = '/datasets/' + archivo_nombre\n",
    "        url_windows = 'datasets/' + archivo_nombre\n",
    "        \n",
    "        try:\n",
    "            # Intentar cargar desde la ruta no-Windows\n",
    "            if os.path.exists(url_no_windows):\n",
    "                df[archivo_nombre] = pd.read_csv(url_no_windows, sep=separador, dtype={'votes': 'Int64'})\n",
    "                print(f\"Archivo cargado exitosamente desde '{url_no_windows}'\")\n",
    "            \n",
    "            # Intentar cargar desde la ruta Windows\n",
    "            elif os.path.exists(url_windows):\n",
    "                df[archivo_nombre] = pd.read_csv(url_windows, sep=separador, dtype={'votes': 'Int64'})\n",
    "                print(f\"Archivo cargado exitosamente desde '{url_windows}'\")\n",
    "            \n",
    "            else:\n",
    "                raise FileNotFoundError(f\"Error: el archivo '{archivo_nombre}' no se encuentra en ninguna de las rutas especificadas.\")\n",
    "        \n",
    "        except FileNotFoundError as e:\n",
    "            print(e)\n",
    "        \n",
    "        except pd.errors.ParserError as e:\n",
    "            print(f\"Error al procesar el archivo CSV '{archivo_nombre}': {e}\")\n",
    "        \n",
    "        except Exception as e:\n",
    "            print(f\"Ha ocurrido un error inesperado con el archivo '{archivo_nombre}': {e}\")\n",
    "\n",
    "    return df\n",
    "\n",
    "# Ejemplo de uso\n",
    "archivos_con_separadores = {\n",
    "    'geo_data_0.csv': ',',    \n",
    "    'geo_data_1.csv': ',',    \n",
    "    'geo_data_2.csv': ',',    \n",
    "}\n",
    "\n",
    "# Cargar los archivos en el objeto df\n",
    "df_all = cargar_archivos_con_separadores(archivos_con_separadores)\n",
    "\n",
    "# El objeto df ahora contiene un DataFrame por cada archivo cargado\n",
    "data_0 = df_all.get('geo_data_0.csv')\n",
    "data_1 = df_all.get('geo_data_1.csv')\n",
    "data_2 = df_all.get('geo_data_2.csv')\n"
   ]
  },
  {
   "cell_type": "markdown",
   "metadata": {},
   "source": [
    "## 4. Explorar los Datos <a class=\"anchor\" id=\"explorar-los-datos\"></a>"
   ]
  },
  {
   "cell_type": "code",
   "execution_count": 3,
   "metadata": {},
   "outputs": [
    {
     "name": "stdout",
     "output_type": "stream",
     "text": [
      "data 0 -------- --------------------------------------------------------\n",
      "      id        f0        f1        f2     product\n",
      "0  txEyH  0.705745 -0.497823  1.221170  105.280062\n",
      "1  2acmU  1.334711 -0.340164  4.365080   73.037750\n",
      "2  409Wp  1.022732  0.151990  1.419926   85.265647\n",
      "3  iJLyR -0.032172  0.139033  2.978566  168.620776\n",
      "4  Xdl7t  1.988431  0.155413  4.751769  154.036647\n",
      "data 1 -------- --------------------------------------------------------\n",
      "      id         f0         f1        f2     product\n",
      "0  kBEdx -15.001348  -8.276000 -0.005876    3.179103\n",
      "1  62mP7  14.272088  -3.475083  0.999183   26.953261\n",
      "2  vyE1P   6.263187  -5.948386  5.001160  134.766305\n",
      "3  KcrkZ -13.081196 -11.506057  4.999415  137.945408\n",
      "4  AHL4O  12.702195  -8.147433  5.004363  134.766305\n",
      "data 2 -------- --------------------------------------------------------\n",
      "      id        f0        f1        f2     product\n",
      "0  fwXo0 -1.146987  0.963328 -0.828965   27.758673\n",
      "1  WJtFt  0.262778  0.269839 -2.530187   56.069697\n",
      "2  ovLUW  0.194587  0.289035 -5.586433   62.871910\n",
      "3  q6cA6  2.236060 -0.553760  0.930038  114.572842\n",
      "4  WPMUX -0.515993  1.716266  5.899011  149.600746\n",
      "\n",
      "data 0 -------- --------------------------------------------------------\n",
      "                  f0             f1             f2        product\n",
      "count  100000.000000  100000.000000  100000.000000  100000.000000\n",
      "mean        0.500419       0.250143       2.502647      92.500000\n",
      "std         0.871832       0.504433       3.248248      44.288691\n",
      "min        -1.408605      -0.848218     -12.088328       0.000000\n",
      "25%        -0.072580      -0.200881       0.287748      56.497507\n",
      "50%         0.502360       0.250252       2.515969      91.849972\n",
      "75%         1.073581       0.700646       4.715088     128.564089\n",
      "max         2.362331       1.343769      16.003790     185.364347\n",
      "data 1 -------- --------------------------------------------------------\n",
      "                  f0             f1             f2        product\n",
      "count  100000.000000  100000.000000  100000.000000  100000.000000\n",
      "mean        1.141296      -4.796579       2.494541      68.825000\n",
      "std         8.965932       5.119872       1.703572      45.944423\n",
      "min       -31.609576     -26.358598      -0.018144       0.000000\n",
      "25%        -6.298551      -8.267985       1.000021      26.953261\n",
      "50%         1.153055      -4.813172       2.011479      57.085625\n",
      "75%         8.621015      -1.332816       3.999904     107.813044\n",
      "max        29.421755      18.734063       5.019721     137.945408\n",
      "data 2 -------- --------------------------------------------------------\n",
      "                  f0             f1             f2        product\n",
      "count  100000.000000  100000.000000  100000.000000  100000.000000\n",
      "mean        0.002023      -0.002081       2.495128      95.000000\n",
      "std         1.732045       1.730417       3.473445      44.749921\n",
      "min        -8.760004      -7.084020     -11.970335       0.000000\n",
      "25%        -1.162288      -1.174820       0.130359      59.450441\n",
      "50%         0.009424      -0.009482       2.484236      94.925613\n",
      "75%         1.158535       1.163678       4.858794     130.595027\n",
      "max         7.238262       7.844801      16.739402     190.029838\n"
     ]
    }
   ],
   "source": [
    "# Inspeccionar los datos\n",
    "print('data 0 -------- --------------------------------------------------------')\n",
    "print(data_0.head())\n",
    "print('data 1 -------- --------------------------------------------------------')\n",
    "print(data_1.head())\n",
    "print('data 2 -------- --------------------------------------------------------')\n",
    "print(data_2.head())\n",
    "\n",
    "print()\n",
    "print('data 0 -------- --------------------------------------------------------')\n",
    "print(data_0.describe())\n",
    "print('data 1 -------- --------------------------------------------------------')\n",
    "print(data_1.describe())\n",
    "print('data 2 -------- --------------------------------------------------------')\n",
    "print(data_2.describe())"
   ]
  },
  {
   "cell_type": "markdown",
   "metadata": {},
   "source": [
    "## 5. Entrenar y Probar el Modelo <a class=\"anchor\" id=\"entrenar-y-probar-el-modelo\"></a>"
   ]
  },
  {
   "cell_type": "code",
   "execution_count": 4,
   "metadata": {},
   "outputs": [
    {
     "name": "stdout",
     "output_type": "stream",
     "text": [
      "Region 0 - RMSE: 37.75660035026169, Mean Predicted: 92.39879990657768\n",
      "Region 1 - RMSE: 0.8902801001028842, Mean Predicted: 68.71287803913762\n",
      "Region 2 - RMSE: 40.145872311342174, Mean Predicted: 94.77102387765936\n"
     ]
    }
   ],
   "source": [
    "def train_and_evaluate(data):\n",
    "    # Separar características y target\n",
    "    X = data.drop(['id', 'product'], axis=1)\n",
    "    y = data['product']\n",
    "    \n",
    "    # Dividir datos en entrenamiento (75%), validación (25%)\n",
    "    X_train, X_valid, y_train, y_valid = train_test_split(X, y, test_size=0.25, random_state=42)\n",
    "    \n",
    "    # Entrenar modelo\n",
    "    model = LinearRegression()\n",
    "    model.fit(X_train, y_train)\n",
    "    \n",
    "    # Hacer predicciones en el conjunto de validación\n",
    "    y_pred = model.predict(X_valid)\n",
    "    \n",
    "    # Evaluar el modelo\n",
    "    rmse = np.sqrt(mean_squared_error(y_valid, y_pred))\n",
    "    mean_pred = np.mean(y_pred)\n",
    "    \n",
    "    return model, y_valid, y_pred, rmse, mean_pred\n",
    "\n",
    "# Entrenar y evaluar el modelo para cada región\n",
    "model_0, y_valid_0, y_pred_0, rmse_0, mean_pred_0 = train_and_evaluate(data_0)\n",
    "model_1, y_valid_1, y_pred_1, rmse_1, mean_pred_1 = train_and_evaluate(data_1)\n",
    "model_2, y_valid_2, y_pred_2, rmse_2, mean_pred_2 = train_and_evaluate(data_2)\n",
    "\n",
    "# Mostrar resultados\n",
    "print(f'Region 0 - RMSE: {rmse_0}, Mean Predicted: {mean_pred_0}')\n",
    "print(f'Region 1 - RMSE: {rmse_1}, Mean Predicted: {mean_pred_1}')\n",
    "print(f'Region 2 - RMSE: {rmse_2}, Mean Predicted: {mean_pred_2}')"
   ]
  },
  {
   "cell_type": "markdown",
   "metadata": {},
   "source": [
    "## 6. Cálculo de Ganancias <a class=\"anchor\" id=\"calculo-de-ganancias\"></a>"
   ]
  },
  {
   "cell_type": "code",
   "execution_count": 5,
   "metadata": {},
   "outputs": [
    {
     "name": "stdout",
     "output_type": "stream",
     "text": [
      "Region 0 - Profit: $33591411.14462179\n",
      "Region 1 - Profit: $24150866.966815114\n",
      "Region 2 - Profit: $25985717.593741104\n"
     ]
    }
   ],
   "source": [
    "def calculate_profit(predictions, true_values, count=200, cost_per_well=100e6/200, revenue_per_unit=4500):\n",
    "    selected_indices = np.argsort(predictions)[-count:]\n",
    "    selected_true_values = true_values.iloc[selected_indices]\n",
    "    \n",
    "    total_revenue = selected_true_values.sum() * revenue_per_unit\n",
    "    total_cost = count * cost_per_well\n",
    "    profit = total_revenue - total_cost\n",
    "    \n",
    "    return profit, selected_true_values\n",
    "\n",
    "profit_0, selected_true_0 = calculate_profit(y_pred_0, y_valid_0)\n",
    "profit_1, selected_true_1 = calculate_profit(y_pred_1, y_valid_1)\n",
    "profit_2, selected_true_2 = calculate_profit(y_pred_2, y_valid_2)\n",
    "\n",
    "print(f'Region 0 - Profit: ${profit_0}')\n",
    "print(f'Region 1 - Profit: ${profit_1}')\n",
    "print(f'Region 2 - Profit: ${profit_2}')"
   ]
  },
  {
   "cell_type": "markdown",
   "metadata": {},
   "source": [
    "## 7. Evaluar Riesgos con Bootstrapping <a class=\"anchor\" id=\"evaluar-riesgos-con-bootstrapping\"></a>"
   ]
  },
  {
   "cell_type": "code",
   "execution_count": 6,
   "metadata": {},
   "outputs": [
    {
     "name": "stdout",
     "output_type": "stream",
     "text": [
      "Region 0 - Mean Profit: $4098972.173432017, 95% CI: [-970993.7434045  9233508.72589727], Risk of Loss: 5.0%\n",
      "Region 1 - Mean Profit: $4500106.023741423, 95% CI: [ 740171.51571986 8125344.305084  ], Risk of Loss: 1.0%\n",
      "Region 2 - Mean Profit: $3670822.0789247733, 95% CI: [-1689558.21352063  9038937.31696205], Risk of Loss: 8.3%\n"
     ]
    }
   ],
   "source": [
    "def bootstrap_profit(predictions, true_values, count=200, cost_per_well=100e6/200, revenue_per_unit=4500, n_samples=1000):\n",
    "    profits = []\n",
    "    for i in range(n_samples):\n",
    "        #sample_indices = np.random.choice(len(predictions), size=len(predictions), replace=True)\n",
    "        sample_indices = np.random.choice(len(predictions), size=500, replace=True) \n",
    "        sample_predictions = predictions[sample_indices]\n",
    "        sample_true_values = true_values.iloc[sample_indices]\n",
    "        \n",
    "        profit, _ = calculate_profit(sample_predictions, sample_true_values, count, cost_per_well, revenue_per_unit)\n",
    "        profits.append(profit)\n",
    "    \n",
    "    profits = np.array(profits)\n",
    "    mean_profit = np.mean(profits)\n",
    "    confidence_interval = np.percentile(profits, [2.5, 97.5])\n",
    "    risk_of_loss = np.mean(profits < 0)\n",
    "    \n",
    "    return mean_profit, confidence_interval, risk_of_loss\n",
    "\n",
    "mean_profit_0, ci_0, risk_0 = bootstrap_profit(y_pred_0, y_valid_0)\n",
    "mean_profit_1, ci_1, risk_1 = bootstrap_profit(y_pred_1, y_valid_1)\n",
    "mean_profit_2, ci_2, risk_2 = bootstrap_profit(y_pred_2, y_valid_2)\n",
    "\n",
    "print(f'Region 0 - Mean Profit: ${mean_profit_0}, 95% CI: {ci_0}, Risk of Loss: {risk_0*100}%')\n",
    "print(f'Region 1 - Mean Profit: ${mean_profit_1}, 95% CI: {ci_1}, Risk of Loss: {risk_1*100}%')\n",
    "print(f'Region 2 - Mean Profit: ${mean_profit_2}, 95% CI: {ci_2}, Risk of Loss: {risk_2*100}%')\n",
    "\n"
   ]
  },
  {
   "cell_type": "code",
   "execution_count": 7,
   "metadata": {},
   "outputs": [
    {
     "data": {
      "image/png": "[encoded data removed]",
      "text/plain": [
       "<Figure size 1400x500 with 2 Axes>"
      ]
     },
     "metadata": {},
     "output_type": "display_data"
    }
   ],
   "source": [
    "# Visualizar Resultados\n",
    "regions = ['Region 0', 'Region 1', 'Region 2']\n",
    "profits = [mean_profit_0, mean_profit_1, mean_profit_2]\n",
    "conf_intervals = [ci_0, ci_1, ci_2]\n",
    "risks = [risk_0, risk_1, risk_2]\n",
    "\n",
    "fig, ax = plt.subplots(1, 2, figsize=(14, 5))\n",
    "\n",
    "# Grafico de beneficios\n",
    "ax[0].bar(regions, profits, yerr=[(conf_intervals[i][1] - conf_intervals[i][0]) / 2 for i in range(3)], capsize=5)\n",
    "ax[0].set_title('Mean Profit by Region')\n",
    "ax[0].set_ylabel('Profit ($)')\n",
    "\n",
    "# Grafico de riesgos\n",
    "ax[1].bar(regions, risks)\n",
    "ax[1].set_title('Risk of Loss by Region')\n",
    "ax[1].set_ylabel('Risk of Loss (%)')\n",
    "\n",
    "plt.tight_layout()\n",
    "plt.show()"
   ]
  },
  {
   "cell_type": "markdown",
   "metadata": {},
   "source": [
    "## 8. Conclusión <a class=\"anchor\" id=\"conclusion\"></a>"
   ]
  },
  {
   "cell_type": "markdown",
   "metadata": {},
   "source": [
    "\n",
    "<p>Después de analizar los resultados de las tres regiones para la apertura de nuevos pozos petrolíferos, se ha llegado a las siguientes conclusiones:</p>\n",
    "\n",
    "<div class=\"region\">\n",
    "    <h2>Región 0</h2>\n",
    "    <ul>\n",
    "        <li><strong>Beneficio Promedio:</strong> $4,072,293.37</li>\n",
    "        <li><strong>Intervalo de Confianza del 95%:</strong> [$-1,247,474.37, $9,236,543.50]</li>\n",
    "        <li><strong>Riesgo de Pérdida:</strong> 6.5%</li>\n",
    "        <li>Esta región muestra un promedio de ganancias considerable, pero con un amplio intervalo de confianza que va desde una posible pérdida significativa hasta un beneficio notable. El riesgo de pérdida del 6.5% indica una probabilidad moderada de que las ganancias caigan por debajo de cierto umbral esperado.</li>\n",
    "    </ul>\n",
    "</div>\n",
    "\n",
    "<div class=\"region\">\n",
    "    <h2>Región 1</h2>\n",
    "    <ul>\n",
    "        <li><strong>Beneficio Promedio:</strong> $4,353,037.63</li>\n",
    "        <li><strong>Intervalo de Confianza del 95%:</strong> [$495,384.07, $8,358,686.98]</li>\n",
    "        <li><strong>Riesgo de Pérdida:</strong> 1.7%</li>\n",
    "        <li>Esta región muestra un promedio de ganancias ligeramente superior al de la Región 0, con un intervalo de confianza más estrecho. El riesgo de pérdida es considerablemente bajo, solo del 1.7%, lo que indica una mayor confianza en que las ganancias se mantendrán por encima de cierto umbral.</li>\n",
    "    </ul>\n",
    "</div>\n",
    "\n",
    "<div class=\"region\">\n",
    "    <h2>Región 2</h2>\n",
    "    <ul>\n",
    "        <li><strong>Beneficio Promedio:</strong> $3,856,792.46</li>\n",
    "        <li><strong>Intervalo de Confianza del 95%:</strong> [$-1,744,213.27, $8,879,139.61]</li>\n",
    "        <li><strong>Riesgo de Pérdida:</strong> 8.3%</li>\n",
    "        <li>Esta región tiene el promedio de ganancias más bajo de las tres, con un intervalo de confianza amplio y un riesgo de pérdida del 8.3%, que es el más alto entre las regiones analizadas. Esto sugiere que hay una mayor posibilidad de que las ganancias caigan por debajo de cierto nivel deseado.</li>\n",
    "    </ul>\n",
    "</div>\n",
    "\n",
    "<div class=\"region\">\n",
    "    <div class=\"region-data\">\n",
    "        <h2>Conclusiones</h2>\n",
    "        <p><strong>La Región 1</strong> muestra el menor riesgo de pérdida (1.7%) y un intervalo de confianza relativamente estrecho, lo que indica una mayor estabilidad en las ganancias esperadas.</p>\n",
    "        <p><strong>La Región 0 y la Región 2</strong> tienen intervalos de confianza más amplios y riesgos de pérdida más altos, lo que sugiere una mayor variabilidad en las ganancias y una probabilidad más alta de experimentar pérdidas significativas en algunos casos.</p>\n",
    "        <p>Es crucial considerar tanto el promedio de ganancias como el intervalo de confianza al tomar decisiones, ya que proporcionan una idea de la estabilidad y la confiabilidad de las proyecciones financieras para cada región.</p>\n",
    "        <p>En resumen, mientras que la Región 1 parece ser la opción más estable en términos de riesgo de pérdida y consistencia en las ganancias esperadas, las Regiones 0 y 2 muestran mayores riesgos y variabilidades en sus resultados financieros.</p>\n",
    "    </div>\n",
    "</div>"
   ]
  },
  {
   "cell_type": "code",
   "execution_count": null,
   "metadata": {},
   "outputs": [],
   "source": []
  }
 ],
 "metadata": {
  "ExecuteTimeLog": [
   {
    "duration": 1352,
    "start_time": "2024-06-11T20:14:57.260Z"
   },
   {
    "duration": 1133,
    "start_time": "2024-06-11T20:14:58.615Z"
   },
   {
    "duration": 0,
    "start_time": "2024-06-11T20:14:59.751Z"
   },
   {
    "duration": 0,
    "start_time": "2024-06-11T20:14:59.754Z"
   },
   {
    "duration": 31,
    "start_time": "2024-06-11T20:15:06.635Z"
   },
   {
    "duration": 372,
    "start_time": "2024-06-11T20:15:34.537Z"
   },
   {
    "duration": 108,
    "start_time": "2024-06-11T20:15:35.817Z"
   },
   {
    "duration": 191,
    "start_time": "2024-06-11T20:15:37.059Z"
   },
   {
    "duration": 22,
    "start_time": "2024-06-11T20:15:42.267Z"
   },
   {
    "duration": 15301,
    "start_time": "2024-06-11T20:15:49.260Z"
   },
   {
    "duration": 498,
    "start_time": "2024-06-11T20:16:09.565Z"
   },
   {
    "duration": 16,
    "start_time": "2024-06-11T20:17:24.754Z"
   },
   {
    "duration": 45,
    "start_time": "2024-06-11T20:18:41.750Z"
   },
   {
    "duration": 16,
    "start_time": "2024-06-11T20:18:55.448Z"
   },
   {
    "duration": 18,
    "start_time": "2024-06-11T20:20:02.234Z"
   },
   {
    "duration": 1091,
    "start_time": "2024-06-11T20:20:35.556Z"
   },
   {
    "duration": 463,
    "start_time": "2024-06-11T20:25:05.240Z"
   },
   {
    "duration": 11493,
    "start_time": "2024-06-11T20:25:32.018Z"
   },
   {
    "duration": 572,
    "start_time": "2024-06-11T20:25:46.460Z"
   },
   {
    "duration": 335,
    "start_time": "2024-06-12T08:20:44.087Z"
   },
   {
    "duration": 4976,
    "start_time": "2024-06-12T08:21:33.780Z"
   },
   {
    "duration": 520,
    "start_time": "2024-06-12T08:21:38.760Z"
   },
   {
    "duration": 115,
    "start_time": "2024-06-12T08:21:39.282Z"
   },
   {
    "duration": 244,
    "start_time": "2024-06-12T08:21:39.400Z"
   },
   {
    "duration": 90,
    "start_time": "2024-06-12T08:21:39.648Z"
   },
   {
    "duration": 1162,
    "start_time": "2024-06-12T08:21:39.746Z"
   },
   {
    "duration": 486,
    "start_time": "2024-06-12T08:21:40.910Z"
   },
   {
    "duration": 5,
    "start_time": "2024-06-12T08:21:43.492Z"
   },
   {
    "duration": 381,
    "start_time": "2024-06-12T08:21:45.436Z"
   },
   {
    "duration": 111,
    "start_time": "2024-06-12T08:21:47.747Z"
   },
   {
    "duration": 151,
    "start_time": "2024-06-12T08:21:51.081Z"
   },
   {
    "duration": 16,
    "start_time": "2024-06-12T08:21:53.723Z"
   },
   {
    "duration": 1334,
    "start_time": "2024-06-12T08:21:56.686Z"
   },
   {
    "duration": 487,
    "start_time": "2024-06-12T08:22:02.156Z"
   }
  ],
  "kernelspec": {
   "display_name": "Python 3 (ipykernel)",
   "language": "python",
   "name": "python3"
  },
  "language_info": {
   "codemirror_mode": {
    "name": "ipython",
    "version": 3
   },
   "file_extension": ".py",
   "mimetype": "text/x-python",
   "name": "python",
   "nbconvert_exporter": "python",
   "pygments_lexer": "ipython3",
   "version": "3.11.7"
  },
  "toc": {
   "base_numbering": 1,
   "nav_menu": {},
   "number_sections": true,
   "sideBar": true,
   "skip_h1_title": true,
   "title_cell": "Table of Contents",
   "title_sidebar": "Contents",
   "toc_cell": false,
   "toc_position": {},
   "toc_section_display": true,
   "toc_window_display": false
  }
 },
 "nbformat": 4,
 "nbformat_minor": 2
}
